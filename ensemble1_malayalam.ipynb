{
 "cells": [
  {
   "cell_type": "code",
   "execution_count": 63,
   "metadata": {},
   "outputs": [],
   "source": [
    "import pandas as pd\n",
    "import numpy as np\n",
    "from sklearn.model_selection import train_test_split\n",
    "from sklearn.preprocessing import LabelEncoder\n",
    "from tensorflow.keras.preprocessing.text import Tokenizer\n",
    "from tensorflow.keras.preprocessing.sequence import pad_sequences\n",
    "from tensorflow.keras.layers import Input, Embedding, Conv1D, GlobalMaxPooling1D, Dense, Dropout, LSTM, Bidirectional, TimeDistributed, Concatenate, Flatten, Attention\n",
    "from tensorflow.keras.models import Model\n",
    "from tensorflow.keras.optimizers import Adam\n",
    "from tensorflow.keras.callbacks import EarlyStopping\n",
    "import matplotlib.pyplot as plt\n",
    "import tensorflow as tf"
   ]
  },
  {
   "cell_type": "code",
   "execution_count": 79,
   "metadata": {},
   "outputs": [],
   "source": [
    "# Load and preprocess the data\n",
    "all_news = \"D:/Dataset/Fake_News_Dataset_Malayalam/mal_fake_train.csv\"\n",
    "all_df = pd.read_csv(all_news)\n",
    "\n",
    "true_df = all_df[all_df[\"label\"] == \"original\"]\n",
    "fake_df = all_df[all_df[\"label\"] == \"Fake\"]\n",
    "true_df.loc[:, \"label\"] = 1  # 1 for true news\n",
    "fake_df.loc[:, \"label\"] = 0  # 0 for fake news\n",
    "\n",
    "# Combine the datasets\n",
    "df = pd.concat([true_df, fake_df], ignore_index=True)\n",
    "\n",
    "all_news_1 = \"D:/Dataset/Fake_News_Dataset_Malayalam/mal_fake_test_with_labels.csv\"\n",
    "all_df_1 = pd.read_csv(all_news_1)\n",
    "\n",
    "\n",
    "true_df_1 = all_df_1[all_df_1[\"label\"] == \"original\"]\n",
    "fake_df_1 = all_df_1[all_df_1[\"label\"] == \"Fake\"]\n",
    "true_df_1.loc[:, \"label\"] = 1  # 1 for true news\n",
    "fake_df_1.loc[:, \"label\"] = 0  # 0 for fake news\n",
    "\n",
    "\n",
    "df1 = pd.concat([true_df_1, fake_df_1], ignore_index=True)\n",
    "\n",
    "X_train = df['text']\n",
    "y_train = df['label']\n",
    "\n",
    "X_test = df1['text']\n",
    "y_test = df1['label']\n",
    "\n",
    "# Split the data\n",
    "# X_train, X_test, y_train, y_test = train_test_split(df['text'], df['label'], test_size=0.2, random_state=42)\n",
    "\n",
    "# Tokenize the text\n",
    "max_words = 10000\n",
    "max_len = 200\n",
    "\n",
    "tokenizer = Tokenizer(num_words=max_words, oov_token='<OOV>')\n",
    "tokenizer.fit_on_texts(X_train)\n",
    "\n",
    "X_train_seq = tokenizer.texts_to_sequences(X_train)\n",
    "X_test_seq = tokenizer.texts_to_sequences(X_test)\n",
    "\n",
    "X_train_pad = pad_sequences(X_train_seq, maxlen=max_len, padding='post', truncating='post')\n",
    "X_test_pad = pad_sequences(X_test_seq, maxlen=max_len, padding='post', truncating='post')\n",
    "# Convert to float32\n",
    "X_train_pad = X_train_pad.astype('float32')\n",
    "X_test_pad = X_test_pad.astype('float32')\n",
    "y_train = y_train.astype('float32')\n",
    "y_test = y_test.astype('float32')\n"
   ]
  },
  {
   "cell_type": "code",
   "execution_count": 80,
   "metadata": {},
   "outputs": [],
   "source": [
    "def create_textcnn_model():\n",
    "    inputs = Input(shape=(max_len,))\n",
    "    embedding = Embedding(max_words, 100, input_length=max_len)(inputs)\n",
    "    \n",
    "    conv_layers = []\n",
    "    for filter_size in [3, 4, 5]:\n",
    "        conv = Conv1D(128, filter_size, activation='relu')(embedding)\n",
    "        pool = GlobalMaxPooling1D()(conv)\n",
    "        conv_layers.append(pool)\n",
    "    \n",
    "    concat = Concatenate()(conv_layers)\n",
    "    dropout = Dropout(0.5)(concat)\n",
    "    outputs = Dense(1, activation='sigmoid')(dropout)\n",
    "    \n",
    "    model = Model(inputs=inputs, outputs=outputs)\n",
    "    return model\n"
   ]
  },
  {
   "cell_type": "code",
   "execution_count": 81,
   "metadata": {},
   "outputs": [],
   "source": [
    "def create_rcnn_model():\n",
    "    inputs = Input(shape=(max_len,))\n",
    "    embedding = Embedding(max_words, 100, input_length=max_len)(inputs)\n",
    "    \n",
    "    lstm = Bidirectional(LSTM(64, return_sequences=True))(embedding)\n",
    "    conv = Conv1D(128, 3, activation='relu')(lstm)\n",
    "    pool = GlobalMaxPooling1D()(conv)\n",
    "    \n",
    "    dropout = Dropout(0.5)(pool)\n",
    "    outputs = Dense(1, activation='sigmoid')(dropout)\n",
    "    \n",
    "    model = Model(inputs=inputs, outputs=outputs)\n",
    "    return model"
   ]
  },
  {
   "cell_type": "code",
   "execution_count": 82,
   "metadata": {},
   "outputs": [],
   "source": [
    "def create_han_model():\n",
    "    inputs = Input(shape=(max_len,))\n",
    "    embedding = Embedding(max_words, 100, input_length=max_len)(inputs)\n",
    "    \n",
    "    lstm = Bidirectional(LSTM(64, return_sequences=True))(embedding)\n",
    "    attention_layer = Attention()([lstm, lstm])\n",
    "    \n",
    "    flatten = Flatten()(attention_layer)\n",
    "    dropout = Dropout(0.5)(flatten)\n",
    "    outputs = Dense(1, activation='sigmoid')(dropout)\n",
    "    \n",
    "    model = Model(inputs=inputs, outputs=outputs)\n",
    "    return model"
   ]
  },
  {
   "cell_type": "code",
   "execution_count": 83,
   "metadata": {},
   "outputs": [],
   "source": [
    "def create_ensemble_model(models):\n",
    "    inputs = Input(shape=(max_len,))\n",
    "    outputs = [model(inputs) for model in models]\n",
    "    ensemble_output = Concatenate()(outputs)\n",
    "    ensemble_output = Dense(1, activation='sigmoid')(ensemble_output)\n",
    "    ensemble_model = Model(inputs=inputs, outputs=ensemble_output)\n",
    "    return ensemble_model"
   ]
  },
  {
   "cell_type": "code",
   "execution_count": 84,
   "metadata": {},
   "outputs": [],
   "source": [
    "textcnn_model = create_textcnn_model()\n",
    "rcnn_model = create_rcnn_model()\n",
    "han_model = create_han_model()"
   ]
  },
  {
   "cell_type": "code",
   "execution_count": 85,
   "metadata": {},
   "outputs": [],
   "source": [
    "ensemble_model = create_ensemble_model([textcnn_model, rcnn_model, han_model])\n"
   ]
  },
  {
   "cell_type": "code",
   "execution_count": 86,
   "metadata": {},
   "outputs": [],
   "source": [
    "ensemble_model.compile(optimizer=Adam(learning_rate=0.001), loss='binary_crossentropy', metrics=['accuracy'])\n"
   ]
  },
  {
   "cell_type": "code",
   "execution_count": 87,
   "metadata": {},
   "outputs": [],
   "source": [
    "early_stopping = EarlyStopping(monitor='val_loss', patience=3, restore_best_weights=True)\n"
   ]
  },
  {
   "cell_type": "code",
   "execution_count": 88,
   "metadata": {},
   "outputs": [],
   "source": [
    "X_train_tensor = tf.convert_to_tensor(X_train_pad, dtype=tf.float32)\n",
    "y_train_tensor = tf.convert_to_tensor(y_train, dtype=tf.float32)\n"
   ]
  },
  {
   "cell_type": "code",
   "execution_count": 89,
   "metadata": {},
   "outputs": [
    {
     "name": "stdout",
     "output_type": "stream",
     "text": [
      "Epoch 1/20\n",
      "41/41 [==============================] - 42s 766ms/step - loss: 0.6358 - accuracy: 0.6372 - val_loss: 0.8332 - val_accuracy: 0.0475\n",
      "Epoch 2/20\n",
      "41/41 [==============================] - 30s 732ms/step - loss: 0.5852 - accuracy: 0.8583 - val_loss: 0.5428 - val_accuracy: 0.9279\n",
      "Epoch 3/20\n",
      "41/41 [==============================] - 29s 697ms/step - loss: 0.5578 - accuracy: 0.9620 - val_loss: 0.5378 - val_accuracy: 0.9433\n",
      "Epoch 4/20\n",
      "41/41 [==============================] - 29s 704ms/step - loss: 0.5229 - accuracy: 0.9839 - val_loss: 0.5306 - val_accuracy: 0.9632\n",
      "Epoch 5/20\n",
      "41/41 [==============================] - 29s 714ms/step - loss: 0.4972 - accuracy: 0.9889 - val_loss: 0.5268 - val_accuracy: 0.9647\n",
      "Epoch 6/20\n",
      "41/41 [==============================] - 31s 752ms/step - loss: 0.4763 - accuracy: 0.9896 - val_loss: 0.5234 - val_accuracy: 0.9647\n",
      "Epoch 7/20\n",
      "41/41 [==============================] - 29s 698ms/step - loss: 0.4578 - accuracy: 0.9931 - val_loss: 0.5203 - val_accuracy: 0.9632\n",
      "Epoch 8/20\n",
      "41/41 [==============================] - 28s 686ms/step - loss: 0.4406 - accuracy: 0.9946 - val_loss: 0.5147 - val_accuracy: 0.9632\n",
      "Epoch 9/20\n",
      "41/41 [==============================] - 28s 692ms/step - loss: 0.4248 - accuracy: 0.9950 - val_loss: 0.5074 - val_accuracy: 0.9617\n",
      "Epoch 10/20\n",
      "41/41 [==============================] - 30s 732ms/step - loss: 0.4098 - accuracy: 0.9962 - val_loss: 0.5034 - val_accuracy: 0.9586\n",
      "Epoch 11/20\n",
      "41/41 [==============================] - 28s 688ms/step - loss: 0.3960 - accuracy: 0.9965 - val_loss: 0.4972 - val_accuracy: 0.9601\n",
      "Epoch 12/20\n",
      "41/41 [==============================] - 30s 725ms/step - loss: 0.3831 - accuracy: 0.9965 - val_loss: 0.4902 - val_accuracy: 0.9586\n",
      "Epoch 13/20\n",
      "41/41 [==============================] - 29s 702ms/step - loss: 0.3709 - accuracy: 0.9965 - val_loss: 0.4831 - val_accuracy: 0.9586\n",
      "Epoch 14/20\n",
      "41/41 [==============================] - 29s 719ms/step - loss: 0.3593 - accuracy: 0.9965 - val_loss: 0.4754 - val_accuracy: 0.9586\n",
      "Epoch 15/20\n",
      "41/41 [==============================] - 28s 693ms/step - loss: 0.3484 - accuracy: 0.9965 - val_loss: 0.4694 - val_accuracy: 0.9571\n",
      "Epoch 16/20\n",
      "41/41 [==============================] - 29s 715ms/step - loss: 0.3380 - accuracy: 0.9965 - val_loss: 0.4605 - val_accuracy: 0.9571\n",
      "Epoch 17/20\n",
      "41/41 [==============================] - 27s 659ms/step - loss: 0.3280 - accuracy: 0.9965 - val_loss: 0.4534 - val_accuracy: 0.9571\n",
      "Epoch 18/20\n",
      "41/41 [==============================] - 27s 649ms/step - loss: 0.3183 - accuracy: 0.9969 - val_loss: 0.4460 - val_accuracy: 0.9571\n",
      "Epoch 19/20\n",
      "41/41 [==============================] - 26s 636ms/step - loss: 0.3092 - accuracy: 0.9969 - val_loss: 0.4375 - val_accuracy: 0.9571\n",
      "Epoch 20/20\n",
      "41/41 [==============================] - 26s 629ms/step - loss: 0.3007 - accuracy: 0.9965 - val_loss: 0.4293 - val_accuracy: 0.9571\n"
     ]
    }
   ],
   "source": [
    "history = ensemble_model.fit(\n",
    "    X_train_tensor, y_train_tensor,\n",
    "    epochs=20,\n",
    "    batch_size=64,\n",
    "    validation_split=0.2,\n",
    "    callbacks=[early_stopping]\n",
    ")\n"
   ]
  },
  {
   "cell_type": "code",
   "execution_count": 90,
   "metadata": {},
   "outputs": [
    {
     "name": "stdout",
     "output_type": "stream",
     "text": [
      "32/32 [==============================] - 2s 67ms/step - loss: 0.6673 - accuracy: 0.6075\n",
      "Test accuracy: 0.6075\n"
     ]
    }
   ],
   "source": [
    "# Evaluate the model\n",
    "X_test_tensor = tf.convert_to_tensor(X_test_pad, dtype=tf.float32)\n",
    "y_test_tensor = tf.convert_to_tensor(y_test, dtype=tf.float32)\n",
    "loss, accuracy = ensemble_model.evaluate(X_test_tensor, y_test_tensor)\n",
    "print(f\"Test accuracy: {accuracy:.4f}\")\n"
   ]
  },
  {
   "cell_type": "code",
   "execution_count": 91,
   "metadata": {},
   "outputs": [
    {
     "data": {
      "text/plain": [
       "<matplotlib.legend.Legend at 0x1fab4928e50>"
      ]
     },
     "execution_count": 91,
     "metadata": {},
     "output_type": "execute_result"
    },
    {
     "data": {
      "image/png": "[encoded data removed]",
      "text/plain": [
       "<Figure size 1200x400 with 1 Axes>"
      ]
     },
     "metadata": {},
     "output_type": "display_data"
    }
   ],
   "source": [
    "plt.figure(figsize=(12, 4))\n",
    "plt.subplot(1, 2, 1)\n",
    "plt.plot(history.history['accuracy'], label='Training Accuracy')\n",
    "plt.plot(history.history['val_accuracy'], label='Validation Accuracy')\n",
    "plt.title('Model Accuracy')\n",
    "plt.xlabel('Epoch')\n",
    "plt.ylabel('Accuracy')\n",
    "plt.legend()"
   ]
  },
  {
   "cell_type": "code",
   "execution_count": 92,
   "metadata": {},
   "outputs": [
    {
     "data": {
      "text/plain": [
       "<matplotlib.legend.Legend at 0x1faa9382a50>"
      ]
     },
     "execution_count": 92,
     "metadata": {},
     "output_type": "execute_result"
    },
    {
     "data": {
      "image/png": "[encoded data removed]",
      "text/plain": [
       "<Figure size 640x480 with 1 Axes>"
      ]
     },
     "metadata": {},
     "output_type": "display_data"
    }
   ],
   "source": [
    "plt.subplot(1, 2, 2)\n",
    "plt.plot(history.history['loss'], label='Training Loss')\n",
    "plt.plot(history.history['val_loss'], label='Validation Loss')\n",
    "plt.title('Model Loss')\n",
    "plt.xlabel('Epoch')\n",
    "plt.ylabel('Loss')\n",
    "plt.legend()\n"
   ]
  },
  {
   "cell_type": "code",
   "execution_count": 94,
   "metadata": {},
   "outputs": [
    {
     "name": "stdout",
     "output_type": "stream",
     "text": [
      "1/1 [==============================] - 0s 49ms/step\n",
      "Prediction: Fake\n",
      "Confidence: 0.3258\n"
     ]
    }
   ],
   "source": [
    "def predict_fake_news(text):\n",
    "    seq = tokenizer.texts_to_sequences([text])\n",
    "    padded = pad_sequences(seq, maxlen=max_len, padding='post', truncating='post')\n",
    "    padded = tf.convert_to_tensor(padded, dtype=tf.float32)\n",
    "    prediction = ensemble_model.predict(padded)[0][0]\n",
    "    return \"Fake\" if prediction < 0.5 else \"Original\", prediction\n",
    "\n",
    "# Example usage\n",
    "sample_text = \"malayalam is a good alnfgg\"\n",
    "result, confidence = predict_fake_news(sample_text)\n",
    "print(f\"Prediction: {result}\")\n",
    "print(f\"Confidence: {confidence:.4f}\")"
   ]
  },
  {
   "cell_type": "code",
   "execution_count": null,
   "metadata": {},
   "outputs": [],
   "source": []
  }
 ],
 "metadata": {
  "kernelspec": {
   "display_name": ".venv",
   "language": "python",
   "name": "python3"
  },
  "language_info": {
   "codemirror_mode": {
    "name": "ipython",
    "version": 3
   },
   "file_extension": ".py",
   "mimetype": "text/x-python",
   "name": "python",
   "nbconvert_exporter": "python",
   "pygments_lexer": "ipython3",
   "version": "3.11.0"
  }
 },
 "nbformat": 4,
 "nbformat_minor": 2
}
