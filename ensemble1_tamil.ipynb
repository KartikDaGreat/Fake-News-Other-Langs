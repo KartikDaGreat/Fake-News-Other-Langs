{
 "cells": [
  {
   "cell_type": "code",
   "execution_count": 1,
   "metadata": {},
   "outputs": [
    {
     "name": "stdout",
     "output_type": "stream",
     "text": [
      "WARNING:tensorflow:From c:\\Users\\Kartik Gounder\\Desktop\\Projects\\.venv\\Lib\\site-packages\\keras\\src\\losses.py:2976: The name tf.losses.sparse_softmax_cross_entropy is deprecated. Please use tf.compat.v1.losses.sparse_softmax_cross_entropy instead.\n",
      "\n"
     ]
    }
   ],
   "source": [
    "import pandas as pd\n",
    "import numpy as np\n",
    "from sklearn.model_selection import train_test_split\n",
    "from sklearn.preprocessing import LabelEncoder\n",
    "from tensorflow.keras.preprocessing.text import Tokenizer\n",
    "from tensorflow.keras.preprocessing.sequence import pad_sequences\n",
    "from tensorflow.keras.layers import Input, Embedding, Conv1D, GlobalMaxPooling1D, Dense, Dropout, LSTM, Bidirectional, TimeDistributed, Concatenate, Flatten, Attention\n",
    "from tensorflow.keras.models import Model\n",
    "from tensorflow.keras.optimizers import Adam\n",
    "from tensorflow.keras.callbacks import EarlyStopping\n",
    "import matplotlib.pyplot as plt\n",
    "import tensorflow as tf"
   ]
  },
  {
   "cell_type": "code",
   "execution_count": 2,
   "metadata": {},
   "outputs": [],
   "source": [
    "# Load and preprocess the data\n",
    "all_news = \"D:/Dataset/Fake_News_Dataset_Tamil/tam_off_train_csv.csv\"\n",
    "all_df = pd.read_csv(all_news)\n",
    "\n",
    "true_df = all_df[all_df[\"Category\"] == \"OFF\"]\n",
    "fake_df = all_df[all_df[\"Category\"] == \"NOT\"]\n",
    "true_df.loc[:, \"Category\"] = 1  # 1 for true news\n",
    "fake_df.loc[:, \"Category\"] = 0  # 0 for fake news\n",
    "\n",
    "# Combine the datasets\n",
    "df = pd.concat([true_df, fake_df], ignore_index=True)\n",
    "\n",
    "# all_news_1 = \"D:/Dataset/Fake_News_Dataset_Malayalam/mal_fake_test_with_labels.csv\"\n",
    "# all_df_1 = pd.read_csv(all_news_1)\n",
    "\n",
    "\n",
    "# true_df_1 = all_df_1[all_df_1[\"label\"] == \"original\"]\n",
    "# fake_df_1 = all_df_1[all_df_1[\"label\"] == \"Fake\"]\n",
    "# true_df_1.loc[:, \"label\"] = 1  # 1 for true news\n",
    "# fake_df_1.loc[:, \"label\"] = 0  # 0 for fake news\n",
    "\n",
    "\n",
    "# df1 = pd.concat([true_df_1, fake_df_1], ignore_index=True)\n",
    "\n",
    "# X_train = df['text']\n",
    "# y_train = df['label']\n",
    "\n",
    "# X_test = df1['text']\n",
    "# y_test = df1['label']\n",
    "\n",
    "# Split the data\n",
    "X_train, X_test, y_train, y_test = train_test_split(df['Text'], df['Category'], test_size=0.2, random_state=42)\n",
    "\n",
    "# Tokenize the text\n",
    "max_words = 10000\n",
    "max_len = 200\n",
    "\n",
    "tokenizer = Tokenizer(num_words=max_words, oov_token='<OOV>')\n",
    "tokenizer.fit_on_texts(X_train)\n",
    "\n",
    "X_train_seq = tokenizer.texts_to_sequences(X_train)\n",
    "X_test_seq = tokenizer.texts_to_sequences(X_test)\n",
    "\n",
    "X_train_pad = pad_sequences(X_train_seq, maxlen=max_len, padding='post', truncating='post')\n",
    "X_test_pad = pad_sequences(X_test_seq, maxlen=max_len, padding='post', truncating='post')\n",
    "# Convert to float32\n",
    "X_train_pad = X_train_pad.astype('float32')\n",
    "X_test_pad = X_test_pad.astype('float32')\n",
    "y_train = y_train.astype('float32')\n",
    "y_test = y_test.astype('float32')\n"
   ]
  },
  {
   "cell_type": "code",
   "execution_count": 3,
   "metadata": {},
   "outputs": [],
   "source": [
    "def create_textcnn_model():\n",
    "    inputs = Input(shape=(max_len,))\n",
    "    embedding = Embedding(max_words, 100, input_length=max_len)(inputs)\n",
    "    \n",
    "    conv_layers = []\n",
    "    for filter_size in [3, 4, 5]:\n",
    "        conv = Conv1D(128, filter_size, activation='relu')(embedding)\n",
    "        pool = GlobalMaxPooling1D()(conv)\n",
    "        conv_layers.append(pool)\n",
    "    \n",
    "    concat = Concatenate()(conv_layers)\n",
    "    dropout = Dropout(0.5)(concat)\n",
    "    outputs = Dense(1, activation='sigmoid')(dropout)\n",
    "    \n",
    "    model = Model(inputs=inputs, outputs=outputs)\n",
    "    return model\n"
   ]
  },
  {
   "cell_type": "code",
   "execution_count": 4,
   "metadata": {},
   "outputs": [],
   "source": [
    "def create_rcnn_model():\n",
    "    inputs = Input(shape=(max_len,))\n",
    "    embedding = Embedding(max_words, 100, input_length=max_len)(inputs)\n",
    "    \n",
    "    lstm = Bidirectional(LSTM(64, return_sequences=True))(embedding)\n",
    "    conv = Conv1D(128, 3, activation='relu')(lstm)\n",
    "    pool = GlobalMaxPooling1D()(conv)\n",
    "    \n",
    "    dropout = Dropout(0.5)(pool)\n",
    "    outputs = Dense(1, activation='sigmoid')(dropout)\n",
    "    \n",
    "    model = Model(inputs=inputs, outputs=outputs)\n",
    "    return model"
   ]
  },
  {
   "cell_type": "code",
   "execution_count": 5,
   "metadata": {},
   "outputs": [],
   "source": [
    "def create_han_model():\n",
    "    inputs = Input(shape=(max_len,))\n",
    "    embedding = Embedding(max_words, 100, input_length=max_len)(inputs)\n",
    "    \n",
    "    lstm = Bidirectional(LSTM(64, return_sequences=True))(embedding)\n",
    "    attention_layer = Attention()([lstm, lstm])\n",
    "    \n",
    "    flatten = Flatten()(attention_layer)\n",
    "    dropout = Dropout(0.5)(flatten)\n",
    "    outputs = Dense(1, activation='sigmoid')(dropout)\n",
    "    \n",
    "    model = Model(inputs=inputs, outputs=outputs)\n",
    "    return model"
   ]
  },
  {
   "cell_type": "code",
   "execution_count": 6,
   "metadata": {},
   "outputs": [],
   "source": [
    "def create_ensemble_model(models):\n",
    "    inputs = Input(shape=(max_len,))\n",
    "    outputs = [model(inputs) for model in models]\n",
    "    ensemble_output = Concatenate()(outputs)\n",
    "    ensemble_output = Dense(1, activation='sigmoid')(ensemble_output)\n",
    "    ensemble_model = Model(inputs=inputs, outputs=ensemble_output)\n",
    "    return ensemble_model"
   ]
  },
  {
   "cell_type": "code",
   "execution_count": 7,
   "metadata": {},
   "outputs": [
    {
     "name": "stdout",
     "output_type": "stream",
     "text": [
      "WARNING:tensorflow:From c:\\Users\\Kartik Gounder\\Desktop\\Projects\\.venv\\Lib\\site-packages\\keras\\src\\backend.py:1398: The name tf.executing_eagerly_outside_functions is deprecated. Please use tf.compat.v1.executing_eagerly_outside_functions instead.\n",
      "\n"
     ]
    }
   ],
   "source": [
    "textcnn_model = create_textcnn_model()\n",
    "rcnn_model = create_rcnn_model()\n",
    "han_model = create_han_model()"
   ]
  },
  {
   "cell_type": "code",
   "execution_count": 8,
   "metadata": {},
   "outputs": [],
   "source": [
    "ensemble_model = create_ensemble_model([textcnn_model, rcnn_model, han_model])\n"
   ]
  },
  {
   "cell_type": "code",
   "execution_count": 9,
   "metadata": {},
   "outputs": [],
   "source": [
    "ensemble_model.compile(optimizer=Adam(learning_rate=0.001), loss='binary_crossentropy', metrics=['accuracy'])\n"
   ]
  },
  {
   "cell_type": "code",
   "execution_count": 10,
   "metadata": {},
   "outputs": [],
   "source": [
    "early_stopping = EarlyStopping(monitor='val_loss', patience=3, restore_best_weights=True)\n"
   ]
  },
  {
   "cell_type": "code",
   "execution_count": 11,
   "metadata": {},
   "outputs": [],
   "source": [
    "X_train_tensor = tf.convert_to_tensor(X_train_pad, dtype=tf.float32)\n",
    "y_train_tensor = tf.convert_to_tensor(y_train, dtype=tf.float32)\n"
   ]
  },
  {
   "cell_type": "code",
   "execution_count": 12,
   "metadata": {},
   "outputs": [
    {
     "name": "stdout",
     "output_type": "stream",
     "text": [
      "Epoch 1/20\n",
      "WARNING:tensorflow:From c:\\Users\\Kartik Gounder\\Desktop\\Projects\\.venv\\Lib\\site-packages\\keras\\src\\utils\\tf_utils.py:492: The name tf.ragged.RaggedTensorValue is deprecated. Please use tf.compat.v1.ragged.RaggedTensorValue instead.\n",
      "\n",
      "WARNING:tensorflow:From c:\\Users\\Kartik Gounder\\Desktop\\Projects\\.venv\\Lib\\site-packages\\keras\\src\\engine\\base_layer_utils.py:384: The name tf.executing_eagerly_outside_functions is deprecated. Please use tf.compat.v1.executing_eagerly_outside_functions instead.\n",
      "\n",
      "40/40 [==============================] - 32s 559ms/step - loss: 0.6843 - accuracy: 0.5781 - val_loss: 0.6324 - val_accuracy: 0.8141\n",
      "Epoch 2/20\n",
      "40/40 [==============================] - 22s 546ms/step - loss: 0.4917 - accuracy: 0.8836 - val_loss: 0.4573 - val_accuracy: 0.8359\n",
      "Epoch 3/20\n",
      "40/40 [==============================] - 23s 576ms/step - loss: 0.3405 - accuracy: 0.9555 - val_loss: 0.4313 - val_accuracy: 0.8328\n",
      "Epoch 4/20\n",
      "40/40 [==============================] - 21s 537ms/step - loss: 0.2845 - accuracy: 0.9812 - val_loss: 0.4307 - val_accuracy: 0.8375\n",
      "Epoch 5/20\n",
      "40/40 [==============================] - 21s 529ms/step - loss: 0.2572 - accuracy: 0.9887 - val_loss: 0.4176 - val_accuracy: 0.8469\n",
      "Epoch 6/20\n",
      "40/40 [==============================] - 21s 533ms/step - loss: 0.2425 - accuracy: 0.9918 - val_loss: 0.4103 - val_accuracy: 0.8438\n",
      "Epoch 7/20\n",
      "40/40 [==============================] - 22s 544ms/step - loss: 0.2322 - accuracy: 0.9934 - val_loss: 0.4071 - val_accuracy: 0.8469\n",
      "Epoch 8/20\n",
      "40/40 [==============================] - 21s 529ms/step - loss: 0.2238 - accuracy: 0.9930 - val_loss: 0.4129 - val_accuracy: 0.8422\n",
      "Epoch 9/20\n",
      "40/40 [==============================] - 21s 536ms/step - loss: 0.2179 - accuracy: 0.9941 - val_loss: 0.4080 - val_accuracy: 0.8391\n",
      "Epoch 10/20\n",
      "40/40 [==============================] - 22s 560ms/step - loss: 0.2081 - accuracy: 0.9941 - val_loss: 0.4064 - val_accuracy: 0.8453\n",
      "Epoch 11/20\n",
      "40/40 [==============================] - 21s 534ms/step - loss: 0.2004 - accuracy: 0.9945 - val_loss: 0.4016 - val_accuracy: 0.8453\n",
      "Epoch 12/20\n",
      "40/40 [==============================] - 21s 533ms/step - loss: 0.1932 - accuracy: 0.9949 - val_loss: 0.3975 - val_accuracy: 0.8453\n",
      "Epoch 13/20\n",
      "40/40 [==============================] - 22s 547ms/step - loss: 0.1870 - accuracy: 0.9949 - val_loss: 0.3971 - val_accuracy: 0.8406\n",
      "Epoch 14/20\n",
      "40/40 [==============================] - 21s 528ms/step - loss: 0.1813 - accuracy: 0.9949 - val_loss: 0.3935 - val_accuracy: 0.8406\n",
      "Epoch 15/20\n",
      "40/40 [==============================] - 22s 542ms/step - loss: 0.1761 - accuracy: 0.9941 - val_loss: 0.3915 - val_accuracy: 0.8500\n",
      "Epoch 16/20\n",
      "40/40 [==============================] - 21s 531ms/step - loss: 0.1706 - accuracy: 0.9945 - val_loss: 0.3956 - val_accuracy: 0.8375\n",
      "Epoch 17/20\n",
      "40/40 [==============================] - 22s 540ms/step - loss: 0.1656 - accuracy: 0.9945 - val_loss: 0.3935 - val_accuracy: 0.8391\n",
      "Epoch 18/20\n",
      "40/40 [==============================] - 22s 548ms/step - loss: 0.1609 - accuracy: 0.9945 - val_loss: 0.3930 - val_accuracy: 0.8391\n"
     ]
    }
   ],
   "source": [
    "history = ensemble_model.fit(\n",
    "    X_train_tensor, y_train_tensor,\n",
    "    epochs=20,\n",
    "    batch_size=64,\n",
    "    validation_split=0.2,\n",
    "    callbacks=[early_stopping]\n",
    ")\n"
   ]
  },
  {
   "cell_type": "code",
   "execution_count": 13,
   "metadata": {},
   "outputs": [
    {
     "name": "stdout",
     "output_type": "stream",
     "text": [
      "25/25 [==============================] - 3s 61ms/step - loss: 0.4437 - accuracy: 0.8150\n",
      "Test accuracy: 0.8150\n"
     ]
    }
   ],
   "source": [
    "# Evaluate the model\n",
    "X_test_tensor = tf.convert_to_tensor(X_test_pad, dtype=tf.float32)\n",
    "y_test_tensor = tf.convert_to_tensor(y_test, dtype=tf.float32)\n",
    "loss, accuracy = ensemble_model.evaluate(X_test_tensor, y_test_tensor)\n",
    "print(f\"Test accuracy: {accuracy:.4f}\")\n"
   ]
  },
  {
   "cell_type": "code",
   "execution_count": 14,
   "metadata": {},
   "outputs": [
    {
     "data": {
      "text/plain": [
       "<matplotlib.legend.Legend at 0x1d04f284dd0>"
      ]
     },
     "execution_count": 14,
     "metadata": {},
     "output_type": "execute_result"
    },
    {
     "data": {
      "image/png": "[encoded data removed]",
      "text/plain": [
       "<Figure size 1200x400 with 1 Axes>"
      ]
     },
     "metadata": {},
     "output_type": "display_data"
    }
   ],
   "source": [
    "plt.figure(figsize=(12, 4))\n",
    "plt.subplot(1, 2, 1)\n",
    "plt.plot(history.history['accuracy'], label='Training Accuracy')\n",
    "plt.plot(history.history['val_accuracy'], label='Validation Accuracy')\n",
    "plt.title('Model Accuracy')\n",
    "plt.xlabel('Epoch')\n",
    "plt.ylabel('Accuracy')\n",
    "plt.legend()"
   ]
  },
  {
   "cell_type": "code",
   "execution_count": 15,
   "metadata": {},
   "outputs": [
    {
     "data": {
      "text/plain": [
       "<matplotlib.legend.Legend at 0x1d0680db950>"
      ]
     },
     "execution_count": 15,
     "metadata": {},
     "output_type": "execute_result"
    },
    {
     "data": {
      "image/png": "[encoded data removed]",
      "text/plain": [
       "<Figure size 640x480 with 1 Axes>"
      ]
     },
     "metadata": {},
     "output_type": "display_data"
    }
   ],
   "source": [
    "plt.subplot(1, 2, 2)\n",
    "plt.plot(history.history['loss'], label='Training Loss')\n",
    "plt.plot(history.history['val_loss'], label='Validation Loss')\n",
    "plt.title('Model Loss')\n",
    "plt.xlabel('Epoch')\n",
    "plt.ylabel('Loss')\n",
    "plt.legend()\n"
   ]
  },
  {
   "cell_type": "code",
   "execution_count": 16,
   "metadata": {},
   "outputs": [
    {
     "name": "stdout",
     "output_type": "stream",
     "text": [
      "1/1 [==============================] - 2s 2s/step\n",
      "Prediction: Fake\n",
      "Confidence: 0.1496\n"
     ]
    }
   ],
   "source": [
    "def predict_fake_news(text):\n",
    "    seq = tokenizer.texts_to_sequences([text])\n",
    "    padded = pad_sequences(seq, maxlen=max_len, padding='post', truncating='post')\n",
    "    padded = tf.convert_to_tensor(padded, dtype=tf.float32)\n",
    "    prediction = ensemble_model.predict(padded)[0][0]\n",
    "    return \"Fake\" if prediction < 0.5 else \"Original\", prediction\n",
    "\n",
    "# Example usage\n",
    "sample_text = \"malayalam is a good alnfgg\"\n",
    "result, confidence = predict_fake_news(sample_text)\n",
    "print(f\"Prediction: {result}\")\n",
    "print(f\"Confidence: {confidence:.4f}\")"
   ]
  },
  {
   "cell_type": "code",
   "execution_count": null,
   "metadata": {},
   "outputs": [],
   "source": []
  }
 ],
 "metadata": {
  "kernelspec": {
   "display_name": ".venv",
   "language": "python",
   "name": "python3"
  },
  "language_info": {
   "codemirror_mode": {
    "name": "ipython",
    "version": 3
   },
   "file_extension": ".py",
   "mimetype": "text/x-python",
   "name": "python",
   "nbconvert_exporter": "python",
   "pygments_lexer": "ipython3",
   "version": "3.11.0"
  }
 },
 "nbformat": 4,
 "nbformat_minor": 2
}
