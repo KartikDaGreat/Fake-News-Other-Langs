{
 "cells": [
  {
   "cell_type": "code",
   "execution_count": 1,
   "metadata": {},
   "outputs": [],
   "source": [
    "import pandas as pd\n",
    "from sklearn.model_selection import train_test_split\n",
    "from sklearn.neighbors import KNeighborsClassifier\n",
    "from sklearn.metrics import accuracy_score, classification_report, confusion_matrix\n",
    "import nltk\n",
    "from nltk.tokenize import word_tokenize\n",
    "import stopwordsiso as stopwords\n",
    "import numpy as np"
   ]
  },
  {
   "cell_type": "code",
   "execution_count": 2,
   "metadata": {},
   "outputs": [],
   "source": [
    "stop_words = list(stopwords.stopwords(\"ml\"))"
   ]
  },
  {
   "cell_type": "code",
   "execution_count": 3,
   "metadata": {},
   "outputs": [],
   "source": [
    "# Load and preprocess data\n",
    "all_news = \"D:/Dataset/Fake_News_Dataset_Malayalam/mal_fake_train.csv\"\n",
    "\n",
    "train_set = pd.read_csv(all_news)\n",
    "X_train = train_set[\"text\"]\n",
    "Y_train = train_set[\"label\"].map({'original': 1, 'Fake': 0})\n",
    "\n",
    "test_news = \"D:/Dataset/Fake_News_Dataset_Malayalam/mal_fake_test_with_labels.csv\"\n",
    "\n",
    "test_set = pd.read_csv(test_news)\n",
    "X_test = test_set[\"text\"]\n",
    "Y_test = test_set[\"label\"].map({'original': 1, 'Fake': 0})\n",
    "\n",
    "# true_df = all_df[all_df[\"label\"] == \"original\"]\n",
    "\n",
    "# fake_df = all_df[all_df[\"label\"] == \"Fake\"]"
   ]
  },
  {
   "cell_type": "code",
   "execution_count": 4,
   "metadata": {},
   "outputs": [],
   "source": [
    "def preprocess(text):\n",
    "    tokens = word_tokenize(text)\n",
    "    return [word for word in tokens if word not in stop_words]\n",
    "\n",
    "X_train_tokens = X_train.apply(preprocess)\n",
    "X_test_tokens = X_test.apply(preprocess)\n"
   ]
  },
  {
   "cell_type": "code",
   "execution_count": 6,
   "metadata": {},
   "outputs": [
    {
     "data": {
      "text/plain": [
       "'\\nfrom sklearn.feature_extraction.text import CountVectorizer\\nvectorizer = CountVectorizer(stop_words=stop_words)\\nX_train_bow = vectorizer.fit_transform(X_train)\\nX_test_bow = vectorizer.transform(X_test)\\nknn = KNeighborsClassifier(n_neighbors=3)\\nknn.fit(X_train_bow, Y_train)\\ny_pred = knn.predict(X_test_bow)\\n'"
      ]
     },
     "execution_count": 6,
     "metadata": {},
     "output_type": "execute_result"
    }
   ],
   "source": [
    "# KNN, BoW\n",
    "\"\"\"\n",
    "from sklearn.feature_extraction.text import CountVectorizer\n",
    "vectorizer = CountVectorizer(stop_words=stop_words)\n",
    "X_train_bow = vectorizer.fit_transform(X_train)\n",
    "X_test_bow = vectorizer.transform(X_test)\n",
    "knn = KNeighborsClassifier(n_neighbors=3)\n",
    "knn.fit(X_train_bow, Y_train)\n",
    "y_pred = knn.predict(X_test_bow)\n",
    "\"\"\""
   ]
  },
  {
   "cell_type": "code",
   "execution_count": 7,
   "metadata": {},
   "outputs": [
    {
     "data": {
      "text/plain": [
       "'\\nfrom sklearn.feature_extraction.text import TfidfVectorizer\\nvectorizer = TfidfVectorizer(stop_words=stop_words)\\nX_train_tfidf = vectorizer.fit_transform(X_train)\\nX_test_tfidf = vectorizer.transform(X_test)\\nknn = KNeighborsClassifier(n_neighbors=3)\\nknn.fit(X_train_tfidf, Y_train)\\ny_pred = knn.predict(X_test_tfidf)\\n'"
      ]
     },
     "execution_count": 7,
     "metadata": {},
     "output_type": "execute_result"
    }
   ],
   "source": [
    "# KNN, TF-IDF\n",
    "\"\"\"\n",
    "from sklearn.feature_extraction.text import TfidfVectorizer\n",
    "vectorizer = TfidfVectorizer(stop_words=stop_words)\n",
    "X_train_tfidf = vectorizer.fit_transform(X_train)\n",
    "X_test_tfidf = vectorizer.transform(X_test)\n",
    "knn = KNeighborsClassifier(n_neighbors=3)\n",
    "knn.fit(X_train_tfidf, Y_train)\n",
    "y_pred = knn.predict(X_test_tfidf)\n",
    "\"\"\""
   ]
  },
  {
   "cell_type": "code",
   "execution_count": 8,
   "metadata": {},
   "outputs": [
    {
     "data": {
      "text/plain": [
       "'\\nfrom gensim.models import Word2Vec\\nword2vec_model = Word2Vec(sentences=X_train_tokens, vector_size=100, window=5, min_count=1, workers=4)\\ndef document_vector(doc):\\n    doc = [word for word in doc if word in word2vec_model.wv.key_to_index]\\n    if len(doc) == 0:\\n        return np.zeros(word2vec_model.vector_size)\\n    return np.mean(word2vec_model.wv[doc], axis=0)\\nX_train_w2v = np.array([document_vector(doc) for doc in X_train_tokens])\\nX_test_w2v = np.array([document_vector(doc) for doc in X_test_tokens])\\nknn = KNeighborsClassifier(n_neighbors=3)\\nknn.fit(X_train_w2v, Y_train)\\ny_pred = knn.predict(X_test_w2v)\\n'"
      ]
     },
     "execution_count": 8,
     "metadata": {},
     "output_type": "execute_result"
    }
   ],
   "source": [
    "# KNN, Word2Vec\n",
    "\"\"\"\n",
    "from gensim.models import Word2Vec\n",
    "word2vec_model = Word2Vec(sentences=X_train_tokens, vector_size=100, window=5, min_count=1, workers=4)\n",
    "def document_vector(doc):\n",
    "    doc = [word for word in doc if word in word2vec_model.wv.key_to_index]\n",
    "    if len(doc) == 0:\n",
    "        return np.zeros(word2vec_model.vector_size)\n",
    "    return np.mean(word2vec_model.wv[doc], axis=0)\n",
    "X_train_w2v = np.array([document_vector(doc) for doc in X_train_tokens])\n",
    "X_test_w2v = np.array([document_vector(doc) for doc in X_test_tokens])\n",
    "knn = KNeighborsClassifier(n_neighbors=3)\n",
    "knn.fit(X_train_w2v, Y_train)\n",
    "y_pred = knn.predict(X_test_w2v)\n",
    "\"\"\""
   ]
  },
  {
   "cell_type": "code",
   "execution_count": 5,
   "metadata": {},
   "outputs": [
    {
     "name": "stderr",
     "output_type": "stream",
     "text": [
      "Reading FastText: 2000001it [03:37, 9201.02it/s] \n"
     ]
    }
   ],
   "source": [
    "# KNN, Glove\n",
    "\"\"\"\n",
    "from tqdm import tqdm\n",
    "# Load pre-trained FastText embeddings\n",
    "def load_fasttext_embeddings(fasttext_file):\n",
    "    embeddings_index = {}\n",
    "    with open(fasttext_file, encoding='utf-8') as f:\n",
    "        for line in tqdm(f, \"Reading FastText\"):\n",
    "            values = line.rstrip().split(' ')\n",
    "            word = values[0]\n",
    "            coefs = np.asarray(values[1:], dtype='float32')\n",
    "            embeddings_index[word] = coefs\n",
    "    return embeddings_index\n",
    "\n",
    "fasttext_file = 'D:/cc.ml.300.vec'\n",
    "# https://dl.fbaipublicfiles.com/fasttext/vectors-crawl/cc.ml.300.vec.gz for malayalam glove file\n",
    "embeddings_index = load_fasttext_embeddings(fasttext_file)\n",
    "\n",
    "# Function to get average FastText embeddings for a document\n",
    "def document_vector(doc):\n",
    "    doc = [word for word in doc if word in embeddings_index]\n",
    "    if len(doc) == 0:\n",
    "        return np.zeros(300)  # Ensure the return vector is of size 300\n",
    "    return np.mean([embeddings_index[word] for word in doc], axis=0)\n",
    "\n",
    "X_train_glove = np.array([document_vector(doc) for doc in X_train_tokens])\n",
    "X_test_glove = np.array([document_vector(doc) for doc in X_test_tokens])\n",
    "\n",
    "# Train KNN classifier\n",
    "knn = KNeighborsClassifier(n_neighbors=3)\n",
    "knn.fit(X_train_glove, Y_train)\n",
    "\n",
    "# Predict and evaluate\n",
    "y_pred = knn.predict(X_test_glove)\n",
    "\"\"\""
   ]
  },
  {
   "cell_type": "code",
   "execution_count": null,
   "metadata": {},
   "outputs": [],
   "source": []
  },
  {
   "cell_type": "code",
   "execution_count": 7,
   "metadata": {},
   "outputs": [
    {
     "name": "stdout",
     "output_type": "stream",
     "text": [
      "Accuracy: 0.6732090284592738\n",
      "Classification Report:\n",
      "              precision    recall  f1-score   support\n",
      "\n",
      "           0       0.65      0.76      0.70       507\n",
      "           1       0.71      0.59      0.64       512\n",
      "\n",
      "    accuracy                           0.67      1019\n",
      "   macro avg       0.68      0.67      0.67      1019\n",
      "weighted avg       0.68      0.67      0.67      1019\n",
      "\n",
      "Confusion Matrix:\n",
      "[[385 122]\n",
      " [211 301]]\n"
     ]
    }
   ],
   "source": [
    "# Evaluate the classifier\n",
    "accuracy = accuracy_score(Y_test, y_pred)\n",
    "report = classification_report(Y_test, y_pred)\n",
    "conf_matrix = confusion_matrix(Y_test, y_pred)\n",
    "\n",
    "print(f'Accuracy: {accuracy}')\n",
    "print('Classification Report:')\n",
    "print(report)\n",
    "print('Confusion Matrix:')\n",
    "print(conf_matrix)"
   ]
  },
  {
   "cell_type": "code",
   "execution_count": null,
   "metadata": {},
   "outputs": [],
   "source": []
  }
 ],
 "metadata": {
  "kernelspec": {
   "display_name": ".venv",
   "language": "python",
   "name": "python3"
  },
  "language_info": {
   "codemirror_mode": {
    "name": "ipython",
    "version": 3
   },
   "file_extension": ".py",
   "mimetype": "text/x-python",
   "name": "python",
   "nbconvert_exporter": "python",
   "pygments_lexer": "ipython3",
   "version": "3.11.0"
  }
 },
 "nbformat": 4,
 "nbformat_minor": 2
}
